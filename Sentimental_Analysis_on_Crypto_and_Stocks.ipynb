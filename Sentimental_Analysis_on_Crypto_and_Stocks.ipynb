{
  "nbformat": 4,
  "nbformat_minor": 0,
  "metadata": {
    "colab": {
      "provenance": [],
      "authorship_tag": "ABX9TyN2RKK4XieCgC1hmtiaEAxu",
      "include_colab_link": true
    },
    "kernelspec": {
      "name": "python3",
      "display_name": "Python 3"
    },
    "language_info": {
      "name": "python"
    }
  },
  "cells": [
    {
      "cell_type": "markdown",
      "metadata": {
        "id": "view-in-github",
        "colab_type": "text"
      },
      "source": [
        "<a href=\"https://colab.research.google.com/github/DarkTitan007/Sentimental-Analysis-on-Crypto-and-Stocks/blob/main/Sentimental_Analysis_on_Crypto_and_Stocks.ipynb\" target=\"_parent\"><img src=\"https://colab.research.google.com/assets/colab-badge.svg\" alt=\"Open In Colab\"/></a>"
      ]
    },
    {
      "cell_type": "markdown",
      "source": [
        "**Codevita Live Internship Data Science Track **\n",
        "Task4: Sentimental Analysis on Crypto and Stocks\n",
        "\n",
        "Intern: Abhishek J Nair "
      ],
      "metadata": {
        "id": "OGJjSJCYPgOQ"
      }
    },
    {
      "cell_type": "code",
      "source": [
        "import numpy as np\n",
        "import pandas as pd \n",
        "import os\n",
        "for dirname, _, filenames in os.walk('/sparks/codevita'):\n",
        "    for filename in filenames:\n",
        "        print(os.path.join(dirname, filename))"
      ],
      "metadata": {
        "id": "KH0G5eP_PpDI"
      },
      "execution_count": 2,
      "outputs": []
    },
    {
      "cell_type": "code",
      "source": [
        "# The statements are taken from the following url:https://www.reddit.com/r/StockMarket/ for Sept22-Oct22 period\n",
        "stocks=[\n",
        "    \"Interest rate is going up in two weeks,rent is over the top high,and there's no inventory on homes\",\n",
        "    \"when you see charts anywhere\",\n",
        "    \"S$P500 is down 20% YTD.I wish houses price were low atleast 20%\",\n",
        "    \"A major Fed rate hike risk deflation\",\n",
        "    \"FedEx warning drives worst decline in stocks,deepens slowdown fear\",\n",
        "    \"Jim Cramer predicts FedEx will have a great year amid strong e-commerce sales\",\n",
        "    \"The stock market will fall another 26% if the Fed sparks a recession in its fight against inflation,Goldman Sachs\",\n",
        "    \"Just Barely a Green Day but I'll take it\",\n",
        "    \"All of my current position for the 215k challenge youtube portfolio! It's been a hell of a ride so far\",\n",
        "    \"Wall St on course for bad week in months amid mounting slowdown fears \"\n",
        "]"
      ],
      "metadata": {
        "id": "71NGOT48Py1R"
      },
      "execution_count": 3,
      "outputs": []
    },
    {
      "cell_type": "code",
      "source": [
        "# The statements are taken from the following url:https://www.reddit.com/r/CryptoCurrency/ for Sept22-Oct22 period\n",
        "cryptocurrencies=[\n",
        "    \"'No one is profitable:'GPU Mining faces dark days ahead\",\n",
        "    \"Joe Biden Just sends a stark warning to bitcoin and crypto after $ 2trillion price crash\",\n",
        "    \"I started accepting moons at my business as a payment method\",\n",
        "    \"It looks like Ethereum is now deflationary as the burns rate is at least 5% higher than the reward\",\n",
        "    \"Bitcoin better than physical property for  commoners, says Michael Saylor\",\n",
        "    \"Ethereum Classic's Hashrate surged  by 280% following merger\",\n",
        "    \"Over $320,000,000 liquidated in bitcoin and crypto in just 24 hours, with ethreum most impacted\",\n",
        "    \"Financial experts says instititions still invest in crypto regardless of downturn\",\n",
        "    \"Binance  CEo praises Biden digital assets policy report amid  industry critcism\",\n",
        "    \"Cryptocurrency is virtual property that is  protected by law ,chinese law court rules\"\n",
        "]"
      ],
      "metadata": {
        "id": "MZwRrqZwQAB-"
      },
      "execution_count": 4,
      "outputs": []
    },
    {
      "cell_type": "code",
      "source": [
        "number_of_statements = len(stocks)\n",
        "print(number_of_statements)\n",
        "number_of_sentence = len(cryptocurrencies)\n",
        "print(number_of_sentence)"
      ],
      "metadata": {
        "colab": {
          "base_uri": "https://localhost:8080/"
        },
        "id": "0Xg7vsAnQGiT",
        "outputId": "24faa34a-05a8-4bec-f6cb-3d73b3a5b40f"
      },
      "execution_count": 5,
      "outputs": [
        {
          "output_type": "stream",
          "name": "stdout",
          "text": [
            "10\n",
            "10\n"
          ]
        }
      ]
    },
    {
      "cell_type": "code",
      "source": [
        "happy_words_stock=['great','Green','excited','happy','wonderful','amazing','best']"
      ],
      "metadata": {
        "id": "aVbYA5gvQLuw"
      },
      "execution_count": 6,
      "outputs": []
    },
    {
      "cell_type": "code",
      "source": [
        "sad_words_stock=['down','risk','decline','fall','worst','bad']"
      ],
      "metadata": {
        "id": "46-CxyF6QM9y"
      },
      "execution_count": 7,
      "outputs": []
    },
    {
      "cell_type": "code",
      "source": [
        "happy_words_cryptocurrency=['accepting','higher','better','surged','great','protected']"
      ],
      "metadata": {
        "id": "KKzMXDFUQQEN"
      },
      "execution_count": 8,
      "outputs": []
    },
    {
      "cell_type": "code",
      "source": [
        "sad_words_cryptocurrency=['dark','crash','impacted','criticism','warning']"
      ],
      "metadata": {
        "id": "2iwPNfcRQSjf"
      },
      "execution_count": 9,
      "outputs": []
    },
    {
      "cell_type": "code",
      "source": [
        "sample_stock = stocks[0]\n",
        "sample_stock"
      ],
      "metadata": {
        "colab": {
          "base_uri": "https://localhost:8080/",
          "height": 36
        },
        "id": "jYtj53nnQVCT",
        "outputId": "07daae6a-928b-4790-ebfc-c2d1ae297393"
      },
      "execution_count": 10,
      "outputs": [
        {
          "output_type": "execute_result",
          "data": {
            "text/plain": [
              "\"Interest rate is going up in two weeks,rent is over the top high,and there's no inventory on homes\""
            ],
            "application/vnd.google.colaboratory.intrinsic+json": {
              "type": "string"
            }
          },
          "metadata": {},
          "execution_count": 10
        }
      ]
    },
    {
      "cell_type": "markdown",
      "source": [
        "**THE END**"
      ],
      "metadata": {
        "id": "PJxWyrcrQYaB"
      }
    }
  ]
}